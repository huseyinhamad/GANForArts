{
 "cells": [
  {
   "cell_type": "code",
   "execution_count": 1,
   "id": "e7586bed",
   "metadata": {},
   "outputs": [
    {
     "name": "stdout",
     "output_type": "stream",
     "text": [
      "Collecting git+https://www.github.com/keras-team/keras-contrib.git\n",
      "  Cloning https://www.github.com/keras-team/keras-contrib.git to c:\\users\\husey\\appdata\\local\\temp\\pip-req-build-unzhvg50\n",
      "Requirement already satisfied (use --upgrade to upgrade): keras-contrib==2.0.8 from git+https://www.github.com/keras-team/keras-contrib.git in c:\\users\\husey\\anaconda3\\envs\\tf\\lib\\site-packages\n",
      "Requirement already satisfied: keras in c:\\users\\husey\\anaconda3\\envs\\tf\\lib\\site-packages (from keras-contrib==2.0.8) (2.6.0)\n",
      "Building wheels for collected packages: keras-contrib\n",
      "  Building wheel for keras-contrib (setup.py): started\n",
      "  Building wheel for keras-contrib (setup.py): finished with status 'done'\n",
      "  Created wheel for keras-contrib: filename=keras_contrib-2.0.8-py3-none-any.whl size=101669 sha256=128dee8584ea6b77db7b9fbd3802bc863a3a799c49fbae972f011fd73e2dd51b\n",
      "  Stored in directory: C:\\Users\\husey\\AppData\\Local\\Temp\\pip-ephem-wheel-cache-qgw4ju5w\\wheels\\67\\d2\\f4\\96ae3c3c62d1e05abfc8860ad0c1207794726d44ebbbb547f3\n",
      "Successfully built keras-contrib\n"
     ]
    }
   ],
   "source": [
    "!pip install git+https://www.github.com/keras-team/keras-contrib.git"
   ]
  },
  {
   "cell_type": "code",
   "execution_count": 2,
   "id": "fa9b8680",
   "metadata": {},
   "outputs": [],
   "source": [
    "import tensorflow as tf\n",
    "import numpy as np\n",
    "from tensorflow.keras.layers  import Activation, Conv2D, Input, Dropout, LeakyReLU, Input, Dense, Concatenate, Conv2DTranspose, Flatten\n",
    "from tensorflow.keras.models import Sequential, Model\n",
    "from tensorflow.keras.initializers import RandomNormal\n",
    "from tensorflow.keras.optimizers import Adam\n",
    "from keras_contrib.layers.normalization.instancenormalization import InstanceNormalization \n",
    "from random import random, randint\n",
    "from keras.models import load_model\n",
    "import keras_contrib"
   ]
  },
  {
   "cell_type": "code",
   "execution_count": 3,
   "id": "eb78bf19",
   "metadata": {},
   "outputs": [],
   "source": [
    "def discriminatorModel(imageShape):\n",
    "    init = RandomNormal(stddev=0.02)\n",
    "    LInputImage = Input(shape=imageShape)\n",
    "    disTensor = Conv2D(64, (4,4), strides=(2,2), padding='same', kernel_initializer=init)(LInputImage)\n",
    "    disTensor = LeakyReLU(alpha=0.2)(disTensor)\n",
    "    disTensor = Conv2D(128, (4,4), strides=(2,2), padding='same', kernel_initializer=init)(disTensor)\n",
    "    disTensor = InstanceNormalization(axis=-1)(disTensor)\n",
    "    disTensor = LeakyReLU(alpha=0.2)(disTensor)\n",
    "    disTensor = Conv2D(256, (4,4), strides=(2,2), padding='same', kernel_initializer=init)(disTensor)\n",
    "    disTensor = InstanceNormalization(axis=-1)(disTensor)\n",
    "    disTensor = LeakyReLU(alpha=0.2)(disTensor)\n",
    "    disTensor = Conv2D(512, (4,4), strides=(2,2), padding='same', kernel_initializer=init)(disTensor)\n",
    "    disTensor = InstanceNormalization(axis=-1)(disTensor)\n",
    "    disTensor = LeakyReLU(alpha=0.2)(disTensor)\n",
    "    disTensor = Conv2D(512, (4,4), padding='same', kernel_initializer=init)(disTensor)\n",
    "    disTensor = InstanceNormalization(axis=-1)(disTensor)\n",
    "    disTensor = LeakyReLU(alpha=0.2)(disTensor)\n",
    "    LOut = Conv2D(1, (4,4), padding='same', kernel_initializer=init)(disTensor)\n",
    "    model = Model(LInputImage, LOut)\n",
    "    model.compile(loss='mse', optimizer=Adam(lr=0.0002, beta_1=0.5), loss_weights=[0.5])\n",
    "    return model"
   ]
  },
  {
   "cell_type": "code",
   "execution_count": 4,
   "id": "645de75d",
   "metadata": {},
   "outputs": [],
   "source": [
    "def residualBlock(LNumberofFilters, LInputLayer):\n",
    "    init = RandomNormal(stddev=0.02)\n",
    "    resTensor = Conv2D(LNumberofFilters, (3,3), padding='same', kernel_initializer=init)(LInputLayer)\n",
    "    resTensor =InstanceNormalization(axis=-1)(resTensor)\n",
    "    resTensor = Activation('relu')(resTensor)\n",
    "    resTensor = Conv2D(LNumberofFilters, (3,3), padding='same', kernel_initializer=init)(resTensor)\n",
    "    resTensor =InstanceNormalization(axis=-1)(resTensor)\n",
    "    resTensor = Concatenate()([resTensor, LInputLayer])\n",
    "    return resTensor"
   ]
  },
  {
   "cell_type": "code",
   "execution_count": 5,
   "id": "922853ab",
   "metadata": {},
   "outputs": [],
   "source": [
    "def generatorModel(LImageShape, LResnet=9):\n",
    "    init = RandomNormal(stddev=0.02)\n",
    "    LInputShape = Input(shape=LImageShape)\n",
    "    genTensor = Conv2D(64, (7,7), padding = 'same', kernel_initializer=init)(LInputShape)\n",
    "    genTensor = InstanceNormalization(axis=-1)(genTensor)\n",
    "    genTensor = Activation('relu')(genTensor)\n",
    "    genTensor = Conv2D(128, (3,3), strides = (2,2), padding = 'same', kernel_initializer=init)(genTensor)\n",
    "    genTensor = InstanceNormalization(axis=-1)(genTensor)\n",
    "    genTensor = Activation('relu')(genTensor)\n",
    "    genTensor = Conv2D(258, (3,3), strides = (2,2), padding = 'same', kernel_initializer=init)(genTensor)\n",
    "    genTensor = InstanceNormalization(axis=-1)(genTensor)\n",
    "    genTensor = Activation('relu')(genTensor)\n",
    "    \n",
    "    for _ in range(LResnet):\n",
    "        genTensor = residualBlock(256, genTensor)\n",
    "    \n",
    "    genTensor = Conv2DTranspose(128, (3,3), strides = (2,2), padding = 'same', kernel_initializer=init)(genTensor)\n",
    "    genTensor = InstanceNormalization(axis=-1)(genTensor)\n",
    "    genTensor = Conv2DTranspose(64, (3,3), strides = (2,2), padding = 'same', kernel_initializer=init)(genTensor)\n",
    "    genTensor = InstanceNormalization(axis=-1)(genTensor)\n",
    "    genTensor = Conv2D(3, (7,7), padding='same', activation='tanh', kernel_initializer=init)(genTensor)\n",
    "    genTensor = InstanceNormalization(axis=-1)(genTensor)\n",
    "    \n",
    "    LOutImage = Activation('tanh')(genTensor)\n",
    "    model = Model(LInputShape, LOutImage)\n",
    "    return model"
   ]
  },
  {
   "cell_type": "code",
   "execution_count": 6,
   "id": "4b348d46",
   "metadata": {},
   "outputs": [],
   "source": [
    "def compositeModel(generatorModel1, discriminatorModel, generatorModel2, imageShape):\n",
    "    generatorModel1.trainable = True\n",
    "    discriminatorModel.trainable = False\n",
    "    generatorModel2.trainable = False\n",
    "\n",
    "    InputGenerator = Input(shape=imageShape)\n",
    "    generatorModel1Out = generatorModel1(InputGenerator)\n",
    "    output_d = discriminatorModel(generatorModel1Out)\n",
    "\n",
    "    input_id = Input(shape=imageShape)\n",
    "    output_id = generatorModel1(input_id)\n",
    "\n",
    "    output_f = generatorModel2(generatorModel1Out)\n",
    "    generatorModel2Out = generatorModel2(input_id)\n",
    "    output_b = generatorModel1(generatorModel2Out)\n",
    "\n",
    "    model = Model([InputGenerator, input_id], [output_d, output_id, output_f, output_b])\n",
    "    model.compile(loss=['mse', 'mae', 'mae', 'mae'], loss_weights=[1, 5, 10, 10], optimizer=Adam(lr=0.0002, beta_1=0.5))\n",
    "    return model"
   ]
  },
  {
   "cell_type": "code",
   "execution_count": null,
   "id": "1328c197",
   "metadata": {},
   "outputs": [],
   "source": []
  }
 ],
 "metadata": {
  "kernelspec": {
   "display_name": "Python 3 (ipykernel)",
   "language": "python",
   "name": "python3"
  },
  "language_info": {
   "codemirror_mode": {
    "name": "ipython",
    "version": 3
   },
   "file_extension": ".py",
   "mimetype": "text/x-python",
   "name": "python",
   "nbconvert_exporter": "python",
   "pygments_lexer": "ipython3",
   "version": "3.8.11"
  }
 },
 "nbformat": 4,
 "nbformat_minor": 5
}
