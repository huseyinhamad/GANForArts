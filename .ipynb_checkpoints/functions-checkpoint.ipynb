{
 "cells": [
  {
   "cell_type": "code",
   "execution_count": null,
   "id": "aa6a14f2",
   "metadata": {},
   "outputs": [],
   "source": [
    "!pip install opencv-python"
   ]
  },
  {
   "cell_type": "code",
   "execution_count": null,
   "id": "83f45cef",
   "metadata": {},
   "outputs": [],
   "source": [
    "import cv2\n",
    "import os\n",
    "import datetime\n",
    "import numpy as np\n",
    "from random import random, randint\n",
    "import matplotlib.pyplot as plt\n",
    "from keras.models import load_model\n",
    "from keras.preprocessing.image import load_img,  img_to_array, array_to_img\n",
    "from numpy import load, expand_dims"
   ]
  },
  {
   "cell_type": "code",
   "execution_count": null,
   "id": "0669785a",
   "metadata": {},
   "outputs": [],
   "source": [
    "def generateRealSamples(dataset, LSamples, patchShape):\n",
    "    ix = np.random.randint(0, dataset.shape[0], LSamples)\n",
    "    X = dataset[ix]\n",
    "    y = np.ones((LSamples, patchShape, patchShape, 1))\n",
    "    return X, y"
   ]
  },
  {
   "cell_type": "code",
   "execution_count": null,
   "id": "407d5e86",
   "metadata": {},
   "outputs": [],
   "source": [
    "def generateFakeSamples(generatorModel, dataset, patchShape):\n",
    "    X = generatorModel.predict(dataset)\n",
    "    y = np.zeros((len(X), patchShape, patchShape, 1))\n",
    "    return X, y"
   ]
  },
  {
   "cell_type": "code",
   "execution_count": null,
   "id": "d8a58c95",
   "metadata": {},
   "outputs": [],
   "source": [
    "def updateImagePool(pool, images, max_size=50):\n",
    "    selected = list()\n",
    "    for image in images:\n",
    "        if len(pool) < max_size:\n",
    "            pool.append(image)\n",
    "            selected.append(image)\n",
    "        elif random() < 0.5:\n",
    "            selected.append(image)\n",
    "        else:\n",
    "            ix = randint(0, len(pool) - 1)\n",
    "            selected.append(pool[ix])\n",
    "            pool[ix] = image\n",
    "    return np.asarray(selected)"
   ]
  },
  {
   "cell_type": "code",
   "execution_count": null,
   "id": "7d4c1c51",
   "metadata": {},
   "outputs": [],
   "source": [
    "def summarizePerformance(LStep, generatorModel, trainX, name, LSamples=5):\n",
    "    InputX, _ = generateRealSamples(trainX, LSamples, 0)\n",
    "    OutputX, _ = generateFakeSamples(generatorModel, InputX, 0)\n",
    "    InputX = (InputX + 1) / 2.0\n",
    "    OutputX = (OutputX + 1) / 2.0\n",
    "    for i in range(LSamples):\n",
    "        plt.subplot(2, LSamples, 1 + i)\n",
    "        plt.axis('off')\n",
    "        plt.imshow(InputX[i])\n",
    "    for i in range(LSamples):\n",
    "        plt.subplot(2, LSamples, 1 + LSamples + i)\n",
    "        plt.axis('off')\n",
    "        plt.imshow(OutputX[i])\n",
    "    filename = 'plots/%s_generatedPlot_%06d.png' % (name, (LStep+1))\n",
    "    plt.savefig(filename)\n",
    "    plt.close()"
   ]
  },
  {
   "cell_type": "code",
   "execution_count": null,
   "id": "88dff6ea",
   "metadata": {},
   "outputs": [],
   "source": [
    "def load_image(filename, size=(256,256)):\n",
    "    pixels = load_img(filename, target_size=size)\n",
    "    pixels = img_to_array(pixels)\n",
    "    pixels = cv2.normalize(pixels, None, alpha=0, beta=1, norm_type=cv2.NORM_MINMAX, dtype=cv2.CV_32F)\n",
    "    pixels = expand_dims(pixels, 0)\n",
    "    return pixels"
   ]
  }
 ],
 "metadata": {
  "kernelspec": {
   "display_name": "Python 3 (ipykernel)",
   "language": "python",
   "name": "python3"
  },
  "language_info": {
   "codemirror_mode": {
    "name": "ipython",
    "version": 3
   },
   "file_extension": ".py",
   "mimetype": "text/x-python",
   "name": "python",
   "nbconvert_exporter": "python",
   "pygments_lexer": "ipython3",
   "version": "3.8.11"
  }
 },
 "nbformat": 4,
 "nbformat_minor": 5
}
